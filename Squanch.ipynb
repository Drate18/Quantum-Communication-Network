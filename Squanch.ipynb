{
  "nbformat": 4,
  "nbformat_minor": 0,
  "metadata": {
    "colab": {
      "provenance": []
    },
    "kernelspec": {
      "name": "python3",
      "display_name": "Python 3"
    },
    "language_info": {
      "name": "python"
    }
  },
  "cells": [
    {
      "cell_type": "code",
      "execution_count": null,
      "metadata": {
        "colab": {
          "base_uri": "https://localhost:8080/"
        },
        "id": "DW_j6O9tZoPv",
        "outputId": "f29ffef7-9af5-4f05-ffdb-b136a852cfa6"
      },
      "outputs": [
        {
          "output_type": "stream",
          "name": "stdout",
          "text": [
            "Collecting squanch\n",
            "  Downloading SQUANCH-1.1.0-py3-none-any.whl (16 kB)\n",
            "Requirement already satisfied: numpy in /usr/local/lib/python3.10/dist-packages (from squanch) (1.23.5)\n",
            "Requirement already satisfied: tqdm in /usr/local/lib/python3.10/dist-packages (from squanch) (4.66.1)\n",
            "Installing collected packages: squanch\n",
            "Successfully installed squanch-1.1.0\n"
          ]
        }
      ],
      "source": [
        "!pip install squanch"
      ]
    },
    {
      "cell_type": "code",
      "source": [
        "from squanch import *\n",
        "import numpy as np\n",
        "import matplotlib.image as image\n",
        "import matplotlib.pyplot as plt\n",
        "%matplotlib inline"
      ],
      "metadata": {
        "id": "cvwWDKp3bxmF"
      },
      "execution_count": null,
      "outputs": []
    },
    {
      "cell_type": "code",
      "source": [
        "class Charlie(Agent):\n",
        "\n",
        "    def run(self):\n",
        "        for qsys in self.qstream:\n",
        "            a, b = qsys.qubits\n",
        "            H(a)\n",
        "            CNOT(a, b)\n",
        "            self.qsend(alice, a)\n",
        "            self.qsend(bob, b)"
      ],
      "metadata": {
        "id": "q1iSODcSb0MO"
      },
      "execution_count": null,
      "outputs": []
    },
    {
      "cell_type": "code",
      "source": [
        "class Alice(Agent):\n",
        "\n",
        "    def run(self):\n",
        "        for _ in self.qstream:\n",
        "            bit1 = self.data.pop(0)\n",
        "            bit2 = self.data.pop(0)\n",
        "            q = self.qrecv(charlie)\n",
        "            if q is not None:\n",
        "                if bit2 == 1: X(q)\n",
        "                if bit1 == 1: Z(q)\n",
        "            self.qsend(eve, q) # Alice unknowingly sends the qubit to Eve"
      ],
      "metadata": {
        "id": "QYpIUFNIb-ru"
      },
      "execution_count": null,
      "outputs": []
    },
    {
      "cell_type": "code",
      "source": [
        "class Bob(Agent):\n",
        "\n",
        "    def run(self):\n",
        "        bits = []\n",
        "        for _ in self.qstream:\n",
        "            a = self.qrecv(eve) # Bob receives his qubit from Eve\n",
        "            c = self.qrecv(charlie)\n",
        "            if a is not None and c is not None:\n",
        "                CNOT(a, c)\n",
        "                H(a)\n",
        "                bits.extend([a.measure(), c.measure()])\n",
        "            else:\n",
        "                bits.extend([0,0])\n",
        "        self.output(bits)"
      ],
      "metadata": {
        "id": "f8x5qVTmcHFB"
      },
      "execution_count": null,
      "outputs": []
    },
    {
      "cell_type": "code",
      "source": [
        "class Eve(Agent):\n",
        "    '''Eve naively tries to intercept Alice's message'''\n",
        "    def run(self):\n",
        "        bits = []\n",
        "        for _ in self.qstream:\n",
        "            a = self.qrecv(alice)\n",
        "            if a is not None:\n",
        "                bits.append(a.measure())\n",
        "            else:\n",
        "                bits.append(0)\n",
        "            self.qsend(bob, a)\n",
        "        self.output(bits)"
      ],
      "metadata": {
        "id": "oPmq3FKLcOfA"
      },
      "execution_count": null,
      "outputs": []
    },
    {
      "cell_type": "code",
      "source": [
        "# Load an image and serialize it to a bitstream\n",
        "img = image.imread(\"../docs/source/img/foundryLogo.bmp\")\n",
        "bitstream = list(np.unpackbits(img))\n",
        "\n",
        "# Make the QStream for the agents to operate on\n",
        "qstream = QStream(2, int(len(bitstream) / 2))\n",
        "\n",
        "# Make agent instances\n",
        "out = Agent.shared_output()\n",
        "\n",
        "alice = Alice(qstream, out, data = bitstream)\n",
        "bob = Bob(qstream, out)\n",
        "charlie = Charlie(qstream, out)\n",
        "eve = Eve(qstream, out)\n",
        "\n",
        "# Connect the agents over simulated fiber optic lines\n",
        "alice.qconnect(bob)\n",
        "alice.qconnect(eve)\n",
        "alice.qconnect(charlie)\n",
        "bob.qconnect(charlie)\n",
        "bob.qconnect(eve)"
      ],
      "metadata": {
        "colab": {
          "base_uri": "https://localhost:8080/",
          "height": 245
        },
        "id": "iooXsibtcUt7",
        "outputId": "31a46849-63fc-45d7-c94a-8964a0315407"
      },
      "execution_count": null,
      "outputs": [
        {
          "output_type": "error",
          "ename": "NameError",
          "evalue": "ignored",
          "traceback": [
            "\u001b[0;31m---------------------------------------------------------------------------\u001b[0m",
            "\u001b[0;31mNameError\u001b[0m                                 Traceback (most recent call last)",
            "\u001b[0;32m<ipython-input-9-995a08b98640>\u001b[0m in \u001b[0;36m<cell line: 6>\u001b[0;34m()\u001b[0m\n\u001b[1;32m      4\u001b[0m \u001b[0;34m\u001b[0m\u001b[0m\n\u001b[1;32m      5\u001b[0m \u001b[0;31m# Make the QStream for the agents to operate on\u001b[0m\u001b[0;34m\u001b[0m\u001b[0;34m\u001b[0m\u001b[0m\n\u001b[0;32m----> 6\u001b[0;31m \u001b[0mqstream\u001b[0m \u001b[0;34m=\u001b[0m \u001b[0mQStream\u001b[0m\u001b[0;34m(\u001b[0m\u001b[0;36m2\u001b[0m\u001b[0;34m,\u001b[0m \u001b[0mint\u001b[0m\u001b[0;34m(\u001b[0m\u001b[0mlen\u001b[0m\u001b[0;34m(\u001b[0m\u001b[0mbitstream\u001b[0m\u001b[0;34m)\u001b[0m \u001b[0;34m/\u001b[0m \u001b[0;36m2\u001b[0m\u001b[0;34m)\u001b[0m\u001b[0;34m)\u001b[0m\u001b[0;34m\u001b[0m\u001b[0;34m\u001b[0m\u001b[0m\n\u001b[0m\u001b[1;32m      7\u001b[0m \u001b[0;34m\u001b[0m\u001b[0m\n\u001b[1;32m      8\u001b[0m \u001b[0;31m# Make agent instances\u001b[0m\u001b[0;34m\u001b[0m\u001b[0;34m\u001b[0m\u001b[0m\n",
            "\u001b[0;31mNameError\u001b[0m: name 'bitstream' is not defined"
          ]
        }
      ]
    },
    {
      "cell_type": "code",
      "source": [
        "from squanch import *\n",
        "results = [] # Where we'll put the measurement results\n",
        "for _ in range(10):\n",
        "qsys = QSystem(2)\n",
        "a, b = qsys.qubits # enumerate the qubits of the system\n",
        "# Make a Bell pair\n",
        "H(a)\n",
        "CNOT(a, b)\n",
        "# Measure the pair and append to results\n",
        "results.append([a.measure(), b.measure()])\n",
        "print(results)"
      ],
      "metadata": {
        "colab": {
          "base_uri": "https://localhost:8080/",
          "height": 141
        },
        "id": "aVq8Hkzuzdi3",
        "outputId": "360aa9a1-d92c-4098-f9e9-f0b1a091b607"
      },
      "execution_count": null,
      "outputs": [
        {
          "output_type": "error",
          "ename": "IndentationError",
          "evalue": "ignored",
          "traceback": [
            "\u001b[0;36m  File \u001b[0;32m\"<ipython-input-1-ced95bdaf422>\"\u001b[0;36m, line \u001b[0;32m4\u001b[0m\n\u001b[0;31m    qsys = QSystem(2)\u001b[0m\n\u001b[0m    ^\u001b[0m\n\u001b[0;31mIndentationError\u001b[0m\u001b[0;31m:\u001b[0m expected an indented block after 'for' statement on line 3\n"
          ]
        }
      ]
    }
  ]
}