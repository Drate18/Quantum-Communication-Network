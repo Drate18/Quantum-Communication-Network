{
  "nbformat": 4,
  "nbformat_minor": 0,
  "metadata": {
    "colab": {
      "provenance": [],
      "mount_file_id": "1a4OvsV0yq6weujdZ4HIPcdZCdHZvwxc0",
      "authorship_tag": "ABX9TyP6o/4PXn7P+9ZXGscNBPxr",
      "include_colab_link": true
    },
    "kernelspec": {
      "name": "python3",
      "display_name": "Python 3"
    },
    "language_info": {
      "name": "python"
    }
  },
  "cells": [
    {
      "cell_type": "markdown",
      "metadata": {
        "id": "view-in-github",
        "colab_type": "text"
      },
      "source": [
        "<a href=\"https://colab.research.google.com/github/Drate18/Quantum-Communication-Network/blob/main/Squanch.ipynb\" target=\"_parent\"><img src=\"https://colab.research.google.com/assets/colab-badge.svg\" alt=\"Open In Colab\"/></a>"
      ]
    },
    {
      "cell_type": "code",
      "execution_count": null,
      "metadata": {
        "id": "DW_j6O9tZoPv"
      },
      "outputs": [],
      "source": [
        "!pip install squanch"
      ]
    },
    {
      "cell_type": "code",
      "source": [
        "from squanch import *\n",
        "import numpy as np\n",
        "import matplotlib.image as image\n",
        "import matplotlib.pyplot as plt\n",
        "%matplotlib inline"
      ],
      "metadata": {
        "id": "cvwWDKp3bxmF"
      },
      "execution_count": null,
      "outputs": []
    },
    {
      "cell_type": "code",
      "source": [
        "class Charlie(Agent):\n",
        "\n",
        "    def run(self):\n",
        "        for qsys in self.qstream:\n",
        "            a, b = qsys.qubits\n",
        "            H(a)\n",
        "            CNOT(a, b)\n",
        "            self.qsend(alice, a)\n",
        "            self.qsend(bob, b)"
      ],
      "metadata": {
        "id": "q1iSODcSb0MO"
      },
      "execution_count": null,
      "outputs": []
    },
    {
      "cell_type": "code",
      "source": [
        "class Alice(Agent):\n",
        "\n",
        "    def run(self):\n",
        "        for _ in self.qstream:\n",
        "            bit1 = self.data.pop(0)\n",
        "            bit2 = self.data.pop(0)\n",
        "            q = self.qrecv(charlie)\n",
        "            if q is not None:\n",
        "                if bit2 == 1: X(q)\n",
        "                if bit1 == 1: Z(q)\n",
        "            self.qsend(eve, q) # Alice unknowingly sends the qubit to Eve"
      ],
      "metadata": {
        "id": "QYpIUFNIb-ru"
      },
      "execution_count": null,
      "outputs": []
    },
    {
      "cell_type": "code",
      "source": [
        "class Bob(Agent):\n",
        "\n",
        "    def run(self):\n",
        "        bits = []\n",
        "        for _ in self.qstream:\n",
        "            a = self.qrecv(eve) # Bob receives his qubit from Eve\n",
        "            c = self.qrecv(charlie)\n",
        "            if a is not None and c is not None:\n",
        "                CNOT(a, c)\n",
        "                H(a)\n",
        "                bits.extend([a.measure(), c.measure()])\n",
        "            else:\n",
        "                bits.extend([0,0])\n",
        "        self.output(bits)"
      ],
      "metadata": {
        "id": "f8x5qVTmcHFB"
      },
      "execution_count": null,
      "outputs": []
    },
    {
      "cell_type": "code",
      "source": [
        "class Eve(Agent):\n",
        "    '''Eve naively tries to intercept Alice's message'''\n",
        "    def run(self):\n",
        "        bits = []\n",
        "        for _ in self.qstream:\n",
        "            a = self.qrecv(alice)\n",
        "            if a is not None:\n",
        "                bits.append(a.measure())\n",
        "            else:\n",
        "                bits.append(0)\n",
        "            self.qsend(bob, a)\n",
        "        self.output(bits)"
      ],
      "metadata": {
        "id": "oPmq3FKLcOfA"
      },
      "execution_count": null,
      "outputs": []
    },
    {
      "cell_type": "code",
      "source": [
        "\n",
        "img = image.imread(\"../docs/source/img/foundryLogo.bmp\")\n",
        "bitstream = list(np.unpackbits(img))\n",
        "\n",
        "\n",
        "qstream = QStream(2, int(len(bitstream) / 2))\n",
        "\n",
        "\n",
        "out = Agent.shared_output()\n",
        "\n",
        "alice = Alice(qstream, out, data = bitstream)\n",
        "bob = Bob(qstream, out)\n",
        "charlie = Charlie(qstream, out)\n",
        "eve = Eve(qstream, out)\n",
        "\n",
        "\n",
        "alice.qconnect(bob)\n",
        "alice.qconnect(eve)\n",
        "alice.qconnect(charlie)\n",
        "bob.qconnect(charlie)\n",
        "bob.qconnect(eve)"
      ],
      "metadata": {
        "id": "iooXsibtcUt7"
      },
      "execution_count": null,
      "outputs": []
    },
    {
      "cell_type": "code",
      "source": [
        "from squanch import *\n",
        "results = []\n",
        "for _ in range(10):\n",
        "qsys = QSystem(2)\n",
        "a, b = qsys.qubits\n",
        "H(a)\n",
        "CNOT(a, b)\n",
        "\n",
        "results.append([a.measure(), b.measure()])\n",
        "print(results)"
      ],
      "metadata": {
        "id": "aVq8Hkzuzdi3"
      },
      "execution_count": null,
      "outputs": []
    }
  ]
}