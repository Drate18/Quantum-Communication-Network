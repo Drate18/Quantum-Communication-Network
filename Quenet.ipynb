{
  "nbformat": 4,
  "nbformat_minor": 0,
  "metadata": {
    "colab": {
      "provenance": [],
      "authorship_tag": "ABX9TyMzc8/OfCj9VFGvFqK3ByW+",
      "include_colab_link": true
    },
    "kernelspec": {
      "name": "python3",
      "display_name": "Python 3"
    },
    "language_info": {
      "name": "python"
    }
  },
  "cells": [
    {
      "cell_type": "markdown",
      "metadata": {
        "id": "view-in-github",
        "colab_type": "text"
      },
      "source": [
        "<a href=\"https://colab.research.google.com/github/Drate18/Quantum-Communication-Network/blob/main/Quenet.ipynb\" target=\"_parent\"><img src=\"https://colab.research.google.com/assets/colab-badge.svg\" alt=\"Open In Colab\"/></a>"
      ]
    },
    {
      "cell_type": "code",
      "execution_count": null,
      "metadata": {
        "colab": {
          "base_uri": "https://localhost:8080/"
        },
        "id": "OnStJfp8sZ_S",
        "outputId": "a11718d7-8ccc-474d-8920-df0047e93455"
      },
      "outputs": [
        {
          "output_type": "stream",
          "name": "stdout",
          "text": [
            "Mounted at /content/drive\n"
          ]
        }
      ],
      "source": [
        "from google.colab import drive\n",
        "drive.mount('/content/drive')\n"
      ]
    },
    {
      "cell_type": "code",
      "source": [
        "!pip install qunetsim"
      ],
      "metadata": {
        "colab": {
          "base_uri": "https://localhost:8080/"
        },
        "id": "G6BDMW92gwWm",
        "outputId": "48777226-debe-4aea-8ab7-d035113a6383"
      },
      "execution_count": null,
      "outputs": [
        {
          "output_type": "stream",
          "name": "stdout",
          "text": [
            "Collecting qunetsim\n",
            "  Downloading qunetsim-0.1.3.post1-py3-none-any.whl (60 kB)\n",
            "\u001b[2K     \u001b[90m━━━━━━━━━━━━━━━━━━━━━━━━━━━━━━━━━━━━━━━━\u001b[0m \u001b[32m60.5/60.5 kB\u001b[0m \u001b[31m1.9 MB/s\u001b[0m eta \u001b[36m0:00:00\u001b[0m\n",
            "\u001b[?25hCollecting eqsn (from qunetsim)\n",
            "  Downloading EQSN-0.0.8.tar.gz (9.8 kB)\n",
            "  Preparing metadata (setup.py) ... \u001b[?25l\u001b[?25hdone\n",
            "Requirement already satisfied: networkx in /usr/local/lib/python3.10/dist-packages (from qunetsim) (3.1)\n",
            "Requirement already satisfied: numpy in /usr/local/lib/python3.10/dist-packages (from qunetsim) (1.23.5)\n",
            "Requirement already satisfied: scipy in /usr/local/lib/python3.10/dist-packages (from qunetsim) (1.10.1)\n",
            "Requirement already satisfied: matplotlib in /usr/local/lib/python3.10/dist-packages (from qunetsim) (3.7.1)\n",
            "Collecting pathvalidate (from qunetsim)\n",
            "  Downloading pathvalidate-3.1.0-py3-none-any.whl (21 kB)\n",
            "Requirement already satisfied: contourpy>=1.0.1 in /usr/local/lib/python3.10/dist-packages (from matplotlib->qunetsim) (1.1.0)\n",
            "Requirement already satisfied: cycler>=0.10 in /usr/local/lib/python3.10/dist-packages (from matplotlib->qunetsim) (0.11.0)\n",
            "Requirement already satisfied: fonttools>=4.22.0 in /usr/local/lib/python3.10/dist-packages (from matplotlib->qunetsim) (4.42.1)\n",
            "Requirement already satisfied: kiwisolver>=1.0.1 in /usr/local/lib/python3.10/dist-packages (from matplotlib->qunetsim) (1.4.4)\n",
            "Requirement already satisfied: packaging>=20.0 in /usr/local/lib/python3.10/dist-packages (from matplotlib->qunetsim) (23.1)\n",
            "Requirement already satisfied: pillow>=6.2.0 in /usr/local/lib/python3.10/dist-packages (from matplotlib->qunetsim) (9.4.0)\n",
            "Requirement already satisfied: pyparsing>=2.3.1 in /usr/local/lib/python3.10/dist-packages (from matplotlib->qunetsim) (3.1.1)\n",
            "Requirement already satisfied: python-dateutil>=2.7 in /usr/local/lib/python3.10/dist-packages (from matplotlib->qunetsim) (2.8.2)\n",
            "Requirement already satisfied: six>=1.5 in /usr/local/lib/python3.10/dist-packages (from python-dateutil>=2.7->matplotlib->qunetsim) (1.16.0)\n",
            "Building wheels for collected packages: eqsn\n",
            "  Building wheel for eqsn (setup.py) ... \u001b[?25l\u001b[?25hdone\n",
            "  Created wheel for eqsn: filename=EQSN-0.0.8-py3-none-any.whl size=11939 sha256=003043cfeb990a075958e9e2c4be2168bf2e5132fe830cb28c8f00a24627371c\n",
            "  Stored in directory: /root/.cache/pip/wheels/8a/08/eb/10ad0fdccd7b467213f43da4dbc9c793c1b31259681cc92d7a\n",
            "Successfully built eqsn\n",
            "Installing collected packages: pathvalidate, eqsn, qunetsim\n",
            "Successfully installed eqsn-0.0.8 pathvalidate-3.1.0 qunetsim-0.1.3.post1\n"
          ]
        }
      ]
    },
    {
      "cell_type": "code",
      "source": [
        "from qunetsim.components import Host, Network\n",
        "\n",
        "network = Network.get_instance()\n",
        "network.start()\n",
        "\n",
        "alice = Host('Alice')\n",
        "bob = Host('Bob')\n",
        "\n",
        "alice.add_connection(bob.host_id)\n",
        "bob.add_connection(alice.host_id)\n",
        "\n",
        "print(bob.host_id)\n",
        "\n",
        "alice.start()\n",
        "bob.start()\n",
        "\n",
        "network.add_hosts([alice, bob])\n",
        "\n",
        "# Block Alice to wait for qubit arrive from Bob\n",
        "alice.send_epr(bob.host_id, await_ack=True)\n",
        "q_alice = alice.get_epr(bob.host_id)\n",
        "q_bob = bob.get_epr(alice.host_id)\n",
        "\n",
        "print(\"EPR is in state: %d, %d\" % (q_alice.measure(), q_bob.measure()))\n",
        "network.stop(True)"
      ],
      "metadata": {
        "colab": {
          "base_uri": "https://localhost:8080/"
        },
        "id": "nusfqZnKhaJu",
        "outputId": "87e6c049-bd52-4a62-eef5-8a6a47dfbc82"
      },
      "execution_count": null,
      "outputs": [
        {
          "output_type": "stream",
          "name": "stdout",
          "text": [
            "Bob\n",
            "EPR is in state: 1, 1\n"
          ]
        }
      ]
    },
    {
      "cell_type": "code",
      "source": [
        "\n",
        "\n",
        "\n",
        "network = Network.get_instance()\n",
        "network.start()\n",
        "\n",
        "\n",
        "alice = Host('Alice')\n",
        "bob = Host('Bob')\n",
        "eve = Host('Eve')\n",
        "\n",
        "\n",
        "alice.add_connection(bob.host_id)\n",
        "bob.add_connection(alice.host_id)\n",
        "\n",
        "\n",
        "network.add_host(eve)\n",
        "\n",
        "\n",
        "alice.add_connection(eve.host_id)\n",
        "eve.add_connection(alice.host_id)\n",
        "bob.add_connection(eve.host_id)\n",
        "eve.add_connection(bob.host_id)\n",
        "\n",
        "\n",
        "alice.start()\n",
        "bob.start()\n",
        "eve.start()\n",
        "\n",
        "\n",
        "alice.send_epr(bob.host_id, await_ack=True)\n",
        "q_alice = alice.get_epr(bob.host_id)\n",
        "q_bob = bob.get_epr(alice.host_id)\n",
        "\n",
        "\n",
        "q_eve_alice = eve.get_epr(alice.host_id)\n",
        "q_eve_bob = eve.get_epr(bob.host_id)\n",
        "\n",
        "\n",
        "measurement_alice = q_alice.measure()\n",
        "measurement_bob = q_bob.measure()\n",
        "measurement_eve_alice = q_eve_alice.measure()\n",
        "measurement_eve_bob = q_eve_bob.measure()\n",
        "\n",
        "print(f\"Alice's measurement: {measurement_alice}\")\n",
        "print(f\"Bob's measurement: {measurement_bob}\")\n",
        "print(f\"Eve's measurement (Alice's side): {measurement_eve_alice}\")\n",
        "print(f\"Eve's measurement (Bob's side): {measurement_eve_bob}\")\n",
        "\n",
        "# Stop the network\n",
        "network.stop(True)\n"
      ],
      "metadata": {
        "id": "AxrQzlzoKihZ"
      },
      "execution_count": null,
      "outputs": []
    }
  ]
}